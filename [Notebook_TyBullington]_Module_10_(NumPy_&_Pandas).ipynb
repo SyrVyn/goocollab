{
  "nbformat": 4,
  "nbformat_minor": 0,
  "metadata": {
    "kernelspec": {
      "display_name": "Python 3",
      "language": "python",
      "name": "python3"
    },
    "language_info": {
      "codemirror_mode": {
        "name": "ipython",
        "version": 3
      },
      "file_extension": ".py",
      "mimetype": "text/x-python",
      "name": "python",
      "nbconvert_exporter": "python",
      "pygments_lexer": "ipython3",
      "version": "3.7.6"
    },
    "colab": {
      "provenance": [],
      "include_colab_link": true
    }
  },
  "cells": [
    {
      "cell_type": "markdown",
      "metadata": {
        "id": "view-in-github",
        "colab_type": "text"
      },
      "source": [
        "<a href=\"https://colab.research.google.com/github/SyrVyn/goocollab/blob/Numpy%26panda/%5BNotebook_TyBullington%5D_Module_10_(NumPy_%26_Pandas).ipynb\" target=\"_parent\"><img src=\"https://colab.research.google.com/assets/colab-badge.svg\" alt=\"Open In Colab\"/></a>"
      ]
    },
    {
      "cell_type": "markdown",
      "metadata": {
        "id": "R92rt65pZWLP"
      },
      "source": [
        "# **Getting Started with Python!**"
      ]
    },
    {
      "cell_type": "markdown",
      "metadata": {
        "id": "BGeKwY5yZWLQ"
      },
      "source": [
        "## NumPy"
      ]
    },
    {
      "cell_type": "markdown",
      "metadata": {
        "id": "wb0X3sWYZWLR"
      },
      "source": [
        "In the previous notebook we learnt the basics of Python and why it's so popular for application in AI. We also learnt about the different data types available in Python, what modules and packages are along with different control options. Now let's get started with **NumPy** (short for Numerical'Num' Python'Py')  one of the most popular packages available in Python for performing scientfic calculcations especially those related to arrays. Let's get started!"
      ]
    },
    {
      "cell_type": "markdown",
      "metadata": {
        "id": "z90prMLRZWLS"
      },
      "source": [
        "## Arrays"
      ]
    },
    {
      "cell_type": "markdown",
      "metadata": {
        "id": "YVjSvQp8ZWLS"
      },
      "source": [
        "NumPy arrays in python are basically grids of values of the same data type. Each element of a NumPy array has a non-negative index associated with it. When dealing with arrays, we come across a useful term called **shape** which gives the size of the array along each dimension. So why do we use NumPy array instead of standard Python lists? In Data Science calculations, NumPy arrays take up smaller memory consumption and better runtime behavior this is important as commonly, we deal with a large amount of data and the difference in processing Python lists and NumPy arrays will add up to a significant difference. NumPy also contains multi-dimensional array and matrix data structures and can perform several mathematical operations on arrays such as trigonometric, statistical, and algebraic routines."
      ]
    },
    {
      "cell_type": "code",
      "metadata": {
        "id": "FvLsLrPUZWLT"
      },
      "source": [
        "# importing numpy package\n",
        "import numpy as np"
      ],
      "execution_count": null,
      "outputs": []
    },
    {
      "cell_type": "code",
      "source": [
        "arrA = np.array([1, 2, 3])  # initializing an array with the elements given in the brackets\n",
        "print(arrA)"
      ],
      "metadata": {
        "id": "LDHCHma0uUKJ",
        "colab": {
          "base_uri": "https://localhost:8080/"
        },
        "outputId": "50f31767-6a2b-4de7-a73c-2b05880b2208"
      },
      "execution_count": null,
      "outputs": [
        {
          "output_type": "stream",
          "name": "stdout",
          "text": [
            "[1 2 3]\n"
          ]
        }
      ]
    },
    {
      "cell_type": "markdown",
      "metadata": {
        "id": "9CvoSukTZWLX"
      },
      "source": [
        "Let's check the datatype for the array 'a'"
      ]
    },
    {
      "cell_type": "code",
      "metadata": {
        "id": "LXBkmS0qZWLX",
        "colab": {
          "base_uri": "https://localhost:8080/"
        },
        "outputId": "ba4c9531-29e6-4e79-e9a0-b1bf32965946"
      },
      "source": [
        "print(type(arrA))# write your code for checking the datatype here"
      ],
      "execution_count": null,
      "outputs": [
        {
          "output_type": "stream",
          "name": "stdout",
          "text": [
            "<class 'numpy.ndarray'>\n"
          ]
        }
      ]
    },
    {
      "cell_type": "code",
      "metadata": {
        "id": "lqht1wILZWLa",
        "colab": {
          "base_uri": "https://localhost:8080/"
        },
        "outputId": "03025fef-13a5-4a5f-e7e7-74633b8a040a"
      },
      "source": [
        "# Creating an array with more than one dimension\n",
        "arrB = np.array([[1, 2], [3, 4]])\n",
        "print(arrB)"
      ],
      "execution_count": null,
      "outputs": [
        {
          "output_type": "stream",
          "name": "stdout",
          "text": [
            "[[1 2]\n",
            " [3 4]]\n"
          ]
        }
      ]
    },
    {
      "cell_type": "code",
      "source": [
        "print(type([[1, 2], [3, 4]]))  # write the code that verifies [[1, 2], [3, 4]] is a list"
      ],
      "metadata": {
        "id": "bF22MVXjLxEQ",
        "colab": {
          "base_uri": "https://localhost:8080/"
        },
        "outputId": "b702db3e-9b09-43f5-958b-6a7a3d552dfd"
      },
      "execution_count": null,
      "outputs": [
        {
          "output_type": "stream",
          "name": "stdout",
          "text": [
            "<class 'list'>\n"
          ]
        }
      ]
    },
    {
      "cell_type": "code",
      "metadata": {
        "id": "2tLaMCN5ZWLc",
        "colab": {
          "base_uri": "https://localhost:8080/"
        },
        "outputId": "8a08407c-1c67-4847-bc8c-92348b1a77bf"
      },
      "source": [
        "# let's check the shape of the arrays created so far\n",
        "print(\"Shape of array 'arrA' is:\", (arrA.shape))\n",
        "print(\"Shape of array 'arrB' is:\", (arrB.shape))"
      ],
      "execution_count": null,
      "outputs": [
        {
          "output_type": "stream",
          "name": "stdout",
          "text": [
            "Shape of array 'arrA' is: (3,)\n",
            "Shape of array 'arrB' is: (2, 2)\n"
          ]
        }
      ]
    },
    {
      "cell_type": "code",
      "source": [
        "# creating a 3-d array - addition\n",
        "arrC = np.array([[[1, 2], [3, 4]], [[5, 6], [7, 8]], [[9, 10], [11, 12]]])\n",
        "print(arrC.shape)"
      ],
      "metadata": {
        "id": "3JlHXFbB1Gj-",
        "colab": {
          "base_uri": "https://localhost:8080/"
        },
        "outputId": "c286b069-9873-4319-a924-969a359b49b0"
      },
      "execution_count": null,
      "outputs": [
        {
          "output_type": "stream",
          "name": "stdout",
          "text": [
            "(3, 2, 2)\n"
          ]
        }
      ]
    },
    {
      "cell_type": "code",
      "metadata": {
        "id": "oh-KPazNZWLf",
        "colab": {
          "base_uri": "https://localhost:8080/"
        },
        "outputId": "13977d6e-259b-44c9-c29c-b3ed2f11e171"
      },
      "source": [
        "# accessing elements of the array using the index\n",
        "print(arrA[0], arrA[1], arrA[2])\n",
        "print(arrB[0][0])\n",
        "#printing the first row first, first column element"
      ],
      "execution_count": null,
      "outputs": [
        {
          "output_type": "stream",
          "name": "stdout",
          "text": [
            "1 2 3\n",
            "1\n"
          ]
        }
      ]
    },
    {
      "cell_type": "code",
      "metadata": {
        "id": "P8kHspilZWLh",
        "colab": {
          "base_uri": "https://localhost:8080/"
        },
        "outputId": "2a6d0068-b1c5-4f77-e33e-d2d4ef1fa2e6"
      },
      "source": [
        "# another way of printing a particular element of an array\n",
        "print(arrB[0,1])"
      ],
      "execution_count": null,
      "outputs": [
        {
          "output_type": "stream",
          "name": "stdout",
          "text": [
            "2\n"
          ]
        }
      ]
    },
    {
      "cell_type": "code",
      "metadata": {
        "id": "RZWfQYHPZWLk",
        "colab": {
          "base_uri": "https://localhost:8080/"
        },
        "outputId": "88f93c6d-9161-4382-b377-865a66d374a4"
      },
      "source": [
        "# using the arange function to create an array\n",
        "arangeC = np.arange(4)  # prints the first four elements as 0 onwards by default\n",
        "print(arangeC)\n",
        "arrangeD = np.arange(1,7)  # specifying start point and end point\n",
        "print(arrangeD)"
      ],
      "execution_count": null,
      "outputs": [
        {
          "output_type": "stream",
          "name": "stdout",
          "text": [
            "[0 1 2 3]\n",
            "[1 2 3 4 5 6]\n"
          ]
        }
      ]
    },
    {
      "cell_type": "code",
      "metadata": {
        "id": "_7wd9k5RZWLn",
        "colab": {
          "base_uri": "https://localhost:8080/"
        },
        "outputId": "f8d09d78-8c31-4173-b705-1bb4be3e5785"
      },
      "source": [
        "# Create the following array with given shape (3, 4). Name the array 'new'\n",
        "# [[ 1  2  3  4]\n",
        "#  [ 5  6  7  8]\n",
        "#  [ 9 10 11 12]]\n",
        "new = np.array([[1,2,3,4], [5,6,7,8], [9,10,11,12]])\n",
        "print(new)"
      ],
      "execution_count": null,
      "outputs": [
        {
          "output_type": "stream",
          "name": "stdout",
          "text": [
            "[[ 1  2  3  4]\n",
            " [ 5  6  7  8]\n",
            " [ 9 10 11 12]]\n"
          ]
        }
      ]
    },
    {
      "cell_type": "code",
      "metadata": {
        "id": "S-h8rs6PZWLp",
        "colab": {
          "base_uri": "https://localhost:8080/"
        },
        "outputId": "c3afc95b-4bc8-483c-8a74-a33a223c7a2f"
      },
      "source": [
        "# Slicing is being used to pull out the subarray consisting of the first 2 rows\n",
        "# and columns 1 and 2; new_sub is the following array of shape (2, 2):\n",
        "new_sub = new[:2, 1:3]\n",
        "print(new_sub)"
      ],
      "execution_count": null,
      "outputs": [
        {
          "output_type": "stream",
          "name": "stdout",
          "text": [
            "[[2 3]\n",
            " [6 7]]\n"
          ]
        }
      ]
    },
    {
      "cell_type": "markdown",
      "metadata": {
        "id": "EEtfOoFmZWLr"
      },
      "source": [
        "**Integer array indexing**\n",
        "\n",
        "When you index into numpy arrays using slicing, the resulting array will always be a subarray of the original array. In contrast, integer array indexing allows you to construct arbitrary arrays using the data from another array. Do you recall slicing? We have gone through this in the previous notebook! Remember, indexes in Python always starts from 0 for the first element.\n",
        "\n",
        "Here is an example:"
      ]
    },
    {
      "cell_type": "code",
      "metadata": {
        "id": "tXBVqvqUZWLs",
        "colab": {
          "base_uri": "https://localhost:8080/"
        },
        "outputId": "e1013e1f-9b17-4134-bf81-228f85f69722"
      },
      "source": [
        "arrA = np.array([[1,2], [3, 4], [5, 6]])\n",
        "\n",
        "# Given the following, this is output of the above, can you see how you would get [1 4 5]?\n",
        "# For the value of '1' it is at position 0,0 which is the first 'box' and the first 'item' in the 'box'\n",
        "# For the vlaue of '4' it is at the position of 1,1 which is the second 'box' and the second 'item' in the 'box'\n",
        "# Can you now figure out how you would get the value of '5'?\n",
        "\n",
        "print(np.array([arrA[0, 0], arrA[1, 1], arrA[2, 0]]))  # Prints \"[1 4 5]\""
      ],
      "execution_count": null,
      "outputs": [
        {
          "output_type": "stream",
          "name": "stdout",
          "text": [
            "[1 4 5]\n"
          ]
        }
      ]
    },
    {
      "cell_type": "code",
      "metadata": {
        "id": "k79IM_rsC8xD",
        "colab": {
          "base_uri": "https://localhost:8080/"
        },
        "outputId": "837354a9-d36d-4fd9-9fe2-77ad334c2805"
      },
      "source": [
        "# The above can also be written as:\n",
        "# arrA[0,0] '1'\n",
        "# arrA[1,1] '4'\n",
        "# arrA[2,0] '5'\n",
        "# This is an Example of integer array indexing. Look closely can you tell the difference between this statement and the last?\n",
        "subOfA = (arrA[[0, 1, 2], [0, 1, 0]])  # Do you now see how array indexing is done and how it relates to the previous statements?\n",
        "\n",
        "\n",
        "print(subOfA)  # Prints \"[1 4 5]\"\n",
        "print(subOfA.shape)  # Shape is 3"
      ],
      "execution_count": null,
      "outputs": [
        {
          "output_type": "stream",
          "name": "stdout",
          "text": [
            "[1 4 5]\n",
            "(3,)\n"
          ]
        }
      ]
    },
    {
      "cell_type": "markdown",
      "metadata": {
        "id": "409b2PhrZWLy"
      },
      "source": [
        "We can also use integer indexing to mutate specific elements of an array"
      ]
    },
    {
      "cell_type": "code",
      "metadata": {
        "id": "n7uHCv9YZWL0",
        "colab": {
          "base_uri": "https://localhost:8080/"
        },
        "outputId": "a4349aac-1269-4fd9-d09a-1c4337808fc7"
      },
      "source": [
        "# Mutate first element from each row of arrA\n",
        "arrA[np.arange(3), 0] += 10\n",
        "\n",
        "print(arrA)"
      ],
      "execution_count": null,
      "outputs": [
        {
          "output_type": "stream",
          "name": "stdout",
          "text": [
            "[[21  2]\n",
            " [23  4]\n",
            " [25  6]]\n"
          ]
        }
      ]
    },
    {
      "cell_type": "markdown",
      "metadata": {
        "id": "xWc5rOdqZWL2"
      },
      "source": [
        "## Datatypes in NumPy Arrays"
      ]
    },
    {
      "cell_type": "code",
      "metadata": {
        "id": "ANEu3E-HZWL3",
        "colab": {
          "base_uri": "https://localhost:8080/"
        },
        "outputId": "7c0da89f-0920-4541-8de1-f1aed9de1d90"
      },
      "source": [
        "roll_no = np.array([23, 46])   # Let numpy choose the datatype\n",
        "print(roll_no.dtype)         # Prints \"int64\"\n",
        "\n",
        "marks = np.array([65.5, 88.0])   # Let numpy choose the datatype\n",
        "print(marks.dtype)             # Prints \"float64\""
      ],
      "execution_count": null,
      "outputs": [
        {
          "output_type": "stream",
          "name": "stdout",
          "text": [
            "int64\n",
            "float64\n"
          ]
        }
      ]
    },
    {
      "cell_type": "code",
      "metadata": {
        "id": "dO1iMifuZWL5",
        "colab": {
          "base_uri": "https://localhost:8080/"
        },
        "outputId": "999b4406-0710-46fa-99ed-7cc30f008ec7"
      },
      "source": [
        "ArrX = np.array([1, 2], dtype=np.int8)   # Force a particular datatype\n",
        "print(ArrX.dtype)                         # Prints \"int64\""
      ],
      "execution_count": null,
      "outputs": [
        {
          "output_type": "stream",
          "name": "stdout",
          "text": [
            "int8\n"
          ]
        }
      ]
    },
    {
      "cell_type": "markdown",
      "metadata": {
        "id": "GbxLAhH4ZWL7"
      },
      "source": [
        "**Array Mathematics**"
      ]
    },
    {
      "cell_type": "markdown",
      "metadata": {
        "id": "G4rFPZ0GZWL8"
      },
      "source": [
        "Basic mathematical operations are available on arrays in an elementwise manner. This can be done using either operators like (+,-,* etc.) or as built-in functions within the package itself."
      ]
    },
    {
      "cell_type": "code",
      "metadata": {
        "id": "DKbDABt0ZWL8",
        "colab": {
          "base_uri": "https://localhost:8080/"
        },
        "outputId": "a293f2f9-7567-4307-e428-5d111a8a433d"
      },
      "source": [
        "ArrX = np.array([[1, 2], [3, 4]], dtype=np.float64)\n",
        "ArrY = np.array([[5, 6], [7, 8]], dtype=np.float64)\n",
        "\n",
        "# Elementwise sum; both produce the array\n",
        "# [[ 6.0  8.0]\n",
        "#  [10.0 12.0]]\n",
        "print(ArrX + ArrY)\n",
        "print(np.add(ArrX, ArrY))"
      ],
      "execution_count": null,
      "outputs": [
        {
          "output_type": "stream",
          "name": "stdout",
          "text": [
            "[[ 6.  8.]\n",
            " [10. 12.]]\n",
            "[[ 6.  8.]\n",
            " [10. 12.]]\n"
          ]
        }
      ]
    },
    {
      "cell_type": "code",
      "metadata": {
        "id": "FsOQcgWaZWL-"
      },
      "source": [
        "# write a code to create two arrays X & Y with the following elements and print their difference\n",
        "# ArrX = [[13.0 7.0]\n",
        "#        [4.0 47.0]]\n",
        "# ArrY = [[16.0 14.0]\n",
        "#        [1.0 23.0]]"
      ],
      "execution_count": null,
      "outputs": []
    },
    {
      "cell_type": "code",
      "metadata": {
        "id": "Slob_hPFZWMA",
        "colab": {
          "base_uri": "https://localhost:8080/"
        },
        "outputId": "12c2196e-b80a-4e96-af29-17a16b51d18f"
      },
      "source": [
        "ArrX = np.array([[13.0, 7.0], [4.0, 47.0]], dtype=np.float64)\n",
        "ArrY = np.array([[16.0, 14.0], [1.0, 23.0]], dtype=np.float64)\n",
        "print (ArrX-ArrY)\n",
        "print(np.subtract(ArrX, ArrY))"
      ],
      "execution_count": null,
      "outputs": [
        {
          "output_type": "stream",
          "name": "stdout",
          "text": [
            "[[-3. -7.]\n",
            " [ 3. 24.]]\n",
            "[[-3. -7.]\n",
            " [ 3. 24.]]\n"
          ]
        }
      ]
    },
    {
      "cell_type": "code",
      "metadata": {
        "id": "EDnC_FlkZWMC",
        "colab": {
          "base_uri": "https://localhost:8080/"
        },
        "outputId": "f3ff5bdc-af71-4d06-f55b-e9bd4face149"
      },
      "source": [
        "# to perform elementwise multiplication\n",
        "print(ArrX * ArrY)\n",
        "print(np.multiply(ArrX,ArrY))"
      ],
      "execution_count": null,
      "outputs": [
        {
          "output_type": "stream",
          "name": "stdout",
          "text": [
            "[[ 208.   98.]\n",
            " [   4. 1081.]]\n",
            "[[ 208.   98.]\n",
            " [   4. 1081.]]\n"
          ]
        }
      ]
    },
    {
      "cell_type": "markdown",
      "metadata": {
        "id": "NnWsT7X9ZWME"
      },
      "source": [
        "Note that this is different from performing matrix multiplication. The * operator is only used for elementwise multiplication."
      ]
    },
    {
      "cell_type": "code",
      "metadata": {
        "id": "kYbccOqfZWMF"
      },
      "source": [
        "# to perform elementwise division\n",
        "print(ArrX / ArrY)\n",
        "print(np.divide(ArrX, ArrY))"
      ],
      "execution_count": null,
      "outputs": []
    },
    {
      "cell_type": "markdown",
      "metadata": {
        "id": "Cdjh6wfTZWMH"
      },
      "source": [
        "Sorting NumPy Arrays"
      ]
    },
    {
      "cell_type": "code",
      "metadata": {
        "id": "9CNpx42aZWMH"
      },
      "source": [
        "arrA = np.array([1, 2, 3, 4, 5, 2, 1])\n",
        "print(arrA)"
      ],
      "execution_count": null,
      "outputs": []
    },
    {
      "cell_type": "code",
      "metadata": {
        "id": "BUoUFREdZWMK"
      },
      "source": [
        "np.sort(arrA)  # function for sorting elements in ascending order\n",
        "print(np.sort(arrA))\n",
        "print(arrA)  # Note that the result is not assigned back to the original array"
      ],
      "execution_count": null,
      "outputs": []
    },
    {
      "cell_type": "code",
      "metadata": {
        "id": "S_5gmqP2ZWMM",
        "colab": {
          "base_uri": "https://localhost:8080/"
        },
        "outputId": "9a51154c-02cb-45b6-9016-6ef0cc3c349e"
      },
      "source": [
        "# function for sorting elements in descending order\n",
        "np.flip(np.sort(arrA))\n",
        "print(np.flip(np.sort(arrA)))"
      ],
      "execution_count": null,
      "outputs": [
        {
          "output_type": "stream",
          "name": "stdout",
          "text": [
            "[[25  6]\n",
            " [23  4]\n",
            " [21  2]]\n"
          ]
        }
      ]
    },
    {
      "cell_type": "markdown",
      "metadata": {
        "id": "jv3RiXOrZWMQ"
      },
      "source": [
        "## Manipulating NumPy Arrays"
      ]
    },
    {
      "cell_type": "markdown",
      "metadata": {
        "id": "7NLocnb1ZWMR"
      },
      "source": [
        "The function reshape() allows manipulation of shape of array without altering its elements. The syntax for this function is illustrated below"
      ]
    },
    {
      "cell_type": "code",
      "metadata": {
        "id": "mVcmR6vhZWMR",
        "colab": {
          "base_uri": "https://localhost:8080/"
        },
        "outputId": "1b098b96-f4fa-4565-9710-2cab2b715196"
      },
      "source": [
        "arrX = np.arange(12)  # creating 12*1 array\n",
        "print(arrX)"
      ],
      "execution_count": null,
      "outputs": [
        {
          "output_type": "stream",
          "name": "stdout",
          "text": [
            "[ 0  1  2  3  4  5  6  7  8  9 10 11]\n"
          ]
        }
      ]
    },
    {
      "cell_type": "code",
      "metadata": {
        "id": "uvyGnQPVZWMT",
        "colab": {
          "base_uri": "https://localhost:8080/"
        },
        "outputId": "bccd7092-95a2-4732-8663-c90823c93613"
      },
      "source": [
        "# changing shape from 12*1 to 6*2 array\n",
        "arrY=arrX.reshape(6,2)\n",
        "print(arrY)"
      ],
      "execution_count": null,
      "outputs": [
        {
          "output_type": "stream",
          "name": "stdout",
          "text": [
            "[[ 0  1]\n",
            " [ 2  3]\n",
            " [ 4  5]\n",
            " [ 6  7]\n",
            " [ 8  9]\n",
            " [10 11]]\n"
          ]
        }
      ]
    },
    {
      "cell_type": "markdown",
      "metadata": {
        "id": "8CjlJ7A5ZWMV"
      },
      "source": [
        "Just like concatenation of lists or strings we can concatenate arrays as well. In the following example we concatenate three one-dimensional arrays to one array. The elements of the second array are appended to the first array. After this the elements of the third array are appended."
      ]
    },
    {
      "cell_type": "code",
      "metadata": {
        "id": "XE7j9QiHZWMV",
        "colab": {
          "base_uri": "https://localhost:8080/"
        },
        "outputId": "f2b73ba9-a330-49cf-b607-28e8bb36cd78"
      },
      "source": [
        "arrX = np.array([3, 12])\n",
        "arrY = np.array([12, 4, 7])\n",
        "arrZ = np.array([2, 6, 8])\n",
        "print(arrX)\n",
        "print(arrY)\n",
        "print(arrZ)\n",
        "arrC = np.concatenate((arrX, arrY, arrZ))  # function to perform concatenation\n",
        "print(arrC)"
      ],
      "execution_count": null,
      "outputs": [
        {
          "output_type": "stream",
          "name": "stdout",
          "text": [
            "[ 3 12]\n",
            "[12  4  7]\n",
            "[2 6 8]\n",
            "[ 3 12 12  4  7  2  6  8]\n"
          ]
        }
      ]
    },
    {
      "cell_type": "markdown",
      "metadata": {
        "id": "xcqbkmCBZWMX"
      },
      "source": [
        "If we are concatenating multidimensional arrays, we can concatenate the arrays according to axis. Arrays must have the same shape to be concatenated with concatenate(). In the case of multidimensional arrays, we can arrange them according to the axis. The default value is axis = 0:"
      ]
    },
    {
      "cell_type": "code",
      "metadata": {
        "id": "B6Zc08MEZWMY",
        "colab": {
          "base_uri": "https://localhost:8080/"
        },
        "outputId": "22901aee-da74-4f7f-a600-bebbc3e3d4f2"
      },
      "source": [
        "arrX = np.array([[2, 4], [7, 9]])\n",
        "print(arrX)\n",
        "arrX=arrX.reshape(1, 4)\n",
        "print(arrX)\n",
        "arrY = np.array([10, 12, 14, 16])\n",
        "print(arrY)\n",
        "arrY=arrY.reshape(1, 4)\n",
        "print(arrY)\n",
        "arrC = np.concatenate((arrX, arrY), axis=None)\n",
        "print(arrC)"
      ],
      "execution_count": null,
      "outputs": [
        {
          "output_type": "stream",
          "name": "stdout",
          "text": [
            "[[2 4]\n",
            " [7 9]]\n",
            "[[2 4 7 9]]\n",
            "[10 12 14 16]\n",
            "[[10 12 14 16]]\n",
            "[ 2  4  7  9 10 12 14 16]\n"
          ]
        }
      ]
    },
    {
      "cell_type": "markdown",
      "metadata": {
        "id": "9hgKuwZaoe5u"
      },
      "source": [
        "**Pro-tip**: To have a list of useful functions and commands always at your fingertips you can save this [cheatsheet](https://s3.amazonaws.com/assets.datacamp.com/blog_assets/Numpy_Python_Cheat_Sheet.pdf) here!"
      ]
    },
    {
      "cell_type": "markdown",
      "metadata": {
        "id": "k0GzJ4JHZWMZ"
      },
      "source": [
        "# **Pandas**"
      ]
    },
    {
      "cell_type": "markdown",
      "metadata": {
        "id": "HehO_Q2-ZWMa"
      },
      "source": [
        "Pandas is built on top of NumPy and is one of the most popular open-source packages available in Python. It's main utility lies in providing a large number of functions for handling real world data.\n",
        "\n",
        "You would not need to fully understand the capabilities of Pandas at present, the examples given are just to demonstrate the some of the useful workings of it. In the later sessions we will go through in full detail about how we would use Pandas in an ML workflow\n",
        "\n",
        "However, we would suggest going forward, to pay special attention to the syntax and the flow and order of the codes as they are generally always being used in similar fashion."
      ]
    },
    {
      "cell_type": "markdown",
      "metadata": {
        "id": "ei-nUdN-Z6Xd"
      },
      "source": [
        "## Importing Pandas"
      ]
    },
    {
      "cell_type": "code",
      "metadata": {
        "id": "6U7ZtveEZ-yZ"
      },
      "source": [
        "# Do you recognize the keywords here? Both import and the library name, such syntax will be common going forward\n",
        "import pandas as pd\n"
      ],
      "execution_count": null,
      "outputs": []
    },
    {
      "cell_type": "markdown",
      "metadata": {
        "id": "tf4JYkytZWMb"
      },
      "source": [
        "A Data frame is a two-dimensional data structure, i.e., data is aligned in a tabular fashion in rows and columns."
      ]
    },
    {
      "cell_type": "markdown",
      "source": [],
      "metadata": {
        "id": "VIuk9EU_NI6J"
      }
    },
    {
      "cell_type": "markdown",
      "metadata": {
        "id": "F00OCqoQbuYd"
      },
      "source": [
        "DataFrames accepts many different kinds of inputs, if you would like to learn more, feel free to search online or go to [pandas'](https://pandas.pydata.org/pandas-docs/stable/user_guide/dsintro.html) documentation. <br>For the purpose of this example, we shall demonstrate a useful way you can use DataFrames. <br><br>Let's say we are interested in the weather, specifically we are interested in data from [Open Government Data](https://data.gov.in/keywords/weather) and have obtained a file called (JaipurFinalCleanData.csv) <br><br>A Comma-Separated Value or csv file, as the name implies contains a set of data separated by commas, files like these would be familiar to users of Spreadsheet software like Excel or Google Sheet.\n",
        "<br><br>In this example, we will open a csv file in Python, and load it into a DataFrame.\n",
        "<br><br> **Bonus Exercise:** Try loading in the file, and follow the rest of the exercise. Use your friend, the search engine and find a way to load your file into Colab!"
      ]
    },
    {
      "cell_type": "code",
      "metadata": {
        "id": "i33N7GgebjA4",
        "colab": {
          "base_uri": "https://localhost:8080/"
        },
        "collapsed": true,
        "outputId": "ffcb8636-4bab-422e-e882-8c0ceebd52ac"
      },
      "source": [
        "# If doing locally using Anaconda for example, the file(csv) should be in same the folder as this notebook.\n",
        "# This example is expected to have errors without the file being uploaded\n",
        "\n",
        "# First, create a variable we will call the DataFrame from\n",
        "DataFrame= pd.read_csv('JaipurFinalCleanData.csv')\n",
        "print(DataFrame.head)"
      ],
      "execution_count": null,
      "outputs": [
        {
          "output_type": "stream",
          "name": "stdout",
          "text": [
            "<bound method NDFrame.head of            date  mean_temperature  max_temperature  min_temperature  \\\n",
            "0    2016-05-04                34               41               27   \n",
            "1    2016-05-05                31               38               24   \n",
            "2    2016-05-06                28               34               21   \n",
            "3    2016-05-07                30               38               23   \n",
            "4    2016-05-08                34               41               26   \n",
            "..          ...               ...              ...              ...   \n",
            "671  2018-03-07                24               32               15   \n",
            "672  2018-03-08                24               32               15   \n",
            "673  2018-03-09                26               33               19   \n",
            "674  2018-03-10                26               34               19   \n",
            "675  2018-03-11                26               34               18   \n",
            "\n",
            "     Mean_dew_pt  mean_pressure  max_humidity  min_humidity  max_dew_pt_1  \\\n",
            "0              6        1006.00            27             5            12   \n",
            "1              7        1005.65            29             6            13   \n",
            "2             11        1007.94            61            13            16   \n",
            "3             13        1008.39            69            18            17   \n",
            "4             10        1007.62            50             8            14   \n",
            "..           ...            ...           ...           ...           ...   \n",
            "671            4        1015.39            48             6             9   \n",
            "672            2        1014.07            55             5             8   \n",
            "673            1        1014.41            42             7             5   \n",
            "674            3        1014.16            37             8             6   \n",
            "675            4        1013.76            38             6             8   \n",
            "\n",
            "     max_dew_pt_2  min_dew_pt_1  min_dew_pt_2  max_pressure_1  max_pressure_2  \\\n",
            "0              10            -2            -2            1009            1008   \n",
            "1              12             0            -2            1008            1009   \n",
            "2              13             6             0            1011            1008   \n",
            "3              16             9             6            1011            1011   \n",
            "4              17             6             9            1010            1011   \n",
            "..            ...           ...           ...             ...             ...   \n",
            "671            13            -3             0            1018            1017   \n",
            "672             9            -6            -3            1017            1018   \n",
            "673             8            -5            -6            1017            1017   \n",
            "674             5            -1            -5            1017            1017   \n",
            "675             6             0            -1            1017            1017   \n",
            "\n",
            "     min_pressure_1  min_pressure_2  rainfall  \n",
            "0              1000            1001       0.0  \n",
            "1              1001            1000       0.0  \n",
            "2              1003            1001       5.0  \n",
            "3              1004            1003       0.0  \n",
            "4              1002            1004       0.0  \n",
            "..              ...             ...       ...  \n",
            "671            1012            1011       0.0  \n",
            "672            1011            1012       0.0  \n",
            "673            1011            1011       0.0  \n",
            "674            1009            1011       0.0  \n",
            "675            1009            1009       0.0  \n",
            "\n",
            "[676 rows x 17 columns]>\n"
          ]
        }
      ]
    },
    {
      "cell_type": "markdown",
      "metadata": {
        "id": "eb0X9mEIfgk4"
      },
      "source": [
        "the .head() function by default shows the first 5 rows of a DataFrame, it also helps you to check if the csv file have loaded in correctly."
      ]
    },
    {
      "cell_type": "code",
      "metadata": {
        "id": "ID2YMQcEf4mF",
        "colab": {
          "base_uri": "https://localhost:8080/"
        },
        "collapsed": true,
        "outputId": "a72cd7a0-0cc0-46ba-d2c2-204cfd7244bc"
      },
      "source": [
        "# You may also add arguments into the function to display more data as so.\n",
        "print(DataFrame.tail(20))"
      ],
      "execution_count": null,
      "outputs": [
        {
          "output_type": "stream",
          "name": "stdout",
          "text": [
            "           date  mean_temperature  max_temperature  min_temperature  \\\n",
            "656  2018-02-20                23               31               15   \n",
            "657  2018-02-21                24               33               15   \n",
            "658  2018-02-22                25               33               17   \n",
            "659  2018-02-23                25               33               17   \n",
            "660  2018-02-24                26               33               18   \n",
            "661  2018-02-25                25               30               20   \n",
            "662  2018-02-26                22               31               14   \n",
            "663  2018-02-27                24               32               16   \n",
            "664  2018-02-28                25               32               18   \n",
            "665  2018-03-01                27               34               20   \n",
            "666  2018-03-02                26               33               20   \n",
            "667  2018-03-03                26               34               19   \n",
            "668  2018-03-04                25               32               18   \n",
            "669  2018-03-05                23               30               16   \n",
            "670  2018-03-06                22               29               15   \n",
            "671  2018-03-07                24               32               15   \n",
            "672  2018-03-08                24               32               15   \n",
            "673  2018-03-09                26               33               19   \n",
            "674  2018-03-10                26               34               19   \n",
            "675  2018-03-11                26               34               18   \n",
            "\n",
            "     Mean_dew_pt  mean_pressure  max_humidity  min_humidity  max_dew_pt_1  \\\n",
            "656            5        1014.55            55            11             8   \n",
            "657            4        1014.24            48            10            10   \n",
            "658            7        1012.06            56            12            14   \n",
            "659            7        1010.97            52             9            12   \n",
            "660            6        1010.82            59             7            12   \n",
            "661            7        1013.00            52            15            11   \n",
            "662            6        1016.37            46             9            13   \n",
            "663            7        1015.75            63            10            13   \n",
            "664            8        1014.42            52            13            13   \n",
            "665           10        1014.07            64            20            14   \n",
            "666           10        1012.18            57            12            16   \n",
            "667            6        1011.18            53            11            12   \n",
            "668            4        1009.23            49             5             9   \n",
            "669            8        1010.19            49            16            11   \n",
            "670            7        1013.96           100            11            13   \n",
            "671            4        1015.39            48             6             9   \n",
            "672            2        1014.07            55             5             8   \n",
            "673            1        1014.41            42             7             5   \n",
            "674            3        1014.16            37             8             6   \n",
            "675            4        1013.76            38             6             8   \n",
            "\n",
            "     max_dew_pt_2  min_dew_pt_1  min_dew_pt_2  max_pressure_1  max_pressure_2  \\\n",
            "656             9             2            -3            1017            1015   \n",
            "657             8             0             2            1017            1017   \n",
            "658            10             3             0            1015            1017   \n",
            "659            14             3             3            1014            1015   \n",
            "660            12             0             3            1013            1014   \n",
            "661            12             3             0            1015            1013   \n",
            "662            11            -1             3            1020            1015   \n",
            "663            13             3            -1            1018            1020   \n",
            "664            13             6             3            1017            1018   \n",
            "665            13             7             6            1017            1017   \n",
            "666            14             5             7            1015            1017   \n",
            "667            16             3             5            1014            1015   \n",
            "668            12            -3             3            1017            1014   \n",
            "669             9             2            -3            1018            1017   \n",
            "670            11             0             2            1017            1018   \n",
            "671            13            -3             0            1018            1017   \n",
            "672             9            -6            -3            1017            1018   \n",
            "673             8            -5            -6            1017            1017   \n",
            "674             5            -1            -5            1017            1017   \n",
            "675             6             0            -1            1017            1017   \n",
            "\n",
            "     min_pressure_1  min_pressure_2  rainfall  \n",
            "656            1012            1010       0.0  \n",
            "657            1011            1012       0.0  \n",
            "658            1008            1011       0.0  \n",
            "659            1007            1008       0.0  \n",
            "660            1007            1007       0.0  \n",
            "661            1009            1007       0.0  \n",
            "662            1013            1009       0.0  \n",
            "663            1011            1013       0.0  \n",
            "664            1010            1011       0.0  \n",
            "665            1010            1010       0.0  \n",
            "666            1008            1010       0.0  \n",
            "667            1007            1008       0.0  \n",
            "668            1005            1007       0.0  \n",
            "669            1007            1005       0.0  \n",
            "670            1011            1007       0.0  \n",
            "671            1012            1011       0.0  \n",
            "672            1011            1012       0.0  \n",
            "673            1011            1011       0.0  \n",
            "674            1009            1011       0.0  \n",
            "675            1009            1009       0.0  \n"
          ]
        }
      ]
    },
    {
      "cell_type": "code",
      "metadata": {
        "id": "qMKftjwzgRom"
      },
      "source": [
        "# Another useful thing you could do is to check all the datatypes within the dataframe\n",
        "DataFrame.dtypes"
      ],
      "execution_count": null,
      "outputs": []
    },
    {
      "cell_type": "markdown",
      "metadata": {
        "id": "oyTc7QPiqLAd"
      },
      "source": [
        "Have you noticed? Using print() on the DataFrame shows many values, but how are are you supposed to make sense of all of them? That is where we might want to do Data Visualization and use graphs, plots and charts to better understand what we are looking at and what we might be looking for. In the following Notebook we shall be looking into a useful and common library, **matplotlib** which helps us with this."
      ]
    }
  ]
}